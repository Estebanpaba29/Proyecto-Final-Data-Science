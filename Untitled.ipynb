{
 "cells": [
  {
   "cell_type": "code",
   "execution_count": 2,
   "id": "c6fc38e6",
   "metadata": {
    "scrolled": true
   },
   "outputs": [
    {
     "name": "stdout",
     "output_type": "stream",
     "text": [
      "Requirement already satisfied: psycopg2 in c:\\users\\estep\\anaconda3\\lib\\site-packages (2.9.7)\n"
     ]
    }
   ],
   "source": [
    "!pip install psycopg2"
   ]
  },
  {
   "cell_type": "code",
   "execution_count": 3,
   "id": "9967c377",
   "metadata": {},
   "outputs": [
    {
     "name": "stdout",
     "output_type": "stream",
     "text": [
      "Requirement already satisfied: sqlalchemy in c:\\users\\estep\\anaconda3\\lib\\site-packages (1.4.39)\n",
      "Requirement already satisfied: greenlet!=0.4.17 in c:\\users\\estep\\anaconda3\\lib\\site-packages (from sqlalchemy) (2.0.1)\n"
     ]
    }
   ],
   "source": [
    "!pip install sqlalchemy"
   ]
  },
  {
   "cell_type": "code",
   "execution_count": 19,
   "id": "97dd60a3",
   "metadata": {},
   "outputs": [
    {
     "name": "stdout",
     "output_type": "stream",
     "text": [
      "Engine(sqlite://)\n"
     ]
    }
   ],
   "source": [
    "import pandas as pd\n",
    "from sqlalchemy import create_engine, text\n",
    "\n",
    "pd.options.display.max_rows = 100\n",
    "ruta=\"C:\\\\Users\\\\estep\\\\DATA SCIENCE\\\\PROYECTO1\"\n",
    "engine=create_engine('sqlite://') \n",
    "print(engine)\n",
    "df = pd.read_excel('TABLA INFO CLIENTES.xlsx').to_sql('TABLA INFO CLIENTES', engine, if_exists='replace', index=False)\n",
    "\n",
    "def runQuery(sql):\n",
    "    result = engine.connect().execute((text(sql)))\n",
    "    return pd.DataFrame(result.fetchall(), columns=result.keys())"
   ]
  },
  {
   "cell_type": "code",
   "execution_count": 31,
   "id": "406b0ccc",
   "metadata": {},
   "outputs": [
    {
     "data": {
      "text/html": [
       "<div>\n",
       "<style scoped>\n",
       "    .dataframe tbody tr th:only-of-type {\n",
       "        vertical-align: middle;\n",
       "    }\n",
       "\n",
       "    .dataframe tbody tr th {\n",
       "        vertical-align: top;\n",
       "    }\n",
       "\n",
       "    .dataframe thead th {\n",
       "        text-align: right;\n",
       "    }\n",
       "</style>\n",
       "<table border=\"1\" class=\"dataframe\">\n",
       "  <thead>\n",
       "    <tr style=\"text-align: right;\">\n",
       "      <th></th>\n",
       "      <th>CLIENTE</th>\n",
       "      <th>TOTAL  AVES 2000-2023</th>\n",
       "      <th>LINEA</th>\n",
       "      <th>CIUDAD</th>\n",
       "      <th>DEPARTAMENTO</th>\n",
       "      <th>PRECIO PROMEDIO 2000-2023</th>\n",
       "    </tr>\n",
       "  </thead>\n",
       "  <tbody>\n",
       "    <tr>\n",
       "      <th>0</th>\n",
       "      <td>ABADIA DE CAMPO GLORIA</td>\n",
       "      <td>49500</td>\n",
       "      <td>HY LINE BROWN</td>\n",
       "      <td>GUACARI</td>\n",
       "      <td>VALLE DEL CAUCA</td>\n",
       "      <td>2150.0</td>\n",
       "    </tr>\n",
       "    <tr>\n",
       "      <th>1</th>\n",
       "      <td>ACEVEDO MARTINEZ LUZ PIEDAD</td>\n",
       "      <td>294800</td>\n",
       "      <td>HY LINE BROWN</td>\n",
       "      <td>TULUA</td>\n",
       "      <td>VALLE DEL CAUCA</td>\n",
       "      <td>2870.0</td>\n",
       "    </tr>\n",
       "    <tr>\n",
       "      <th>2</th>\n",
       "      <td>AGRICOLA COLOMBIANA S.A.</td>\n",
       "      <td>4987250</td>\n",
       "      <td>HY LINE BROWN</td>\n",
       "      <td>CALI</td>\n",
       "      <td>VALLE DEL CAUCA</td>\n",
       "      <td>3150.0</td>\n",
       "    </tr>\n",
       "    <tr>\n",
       "      <th>3</th>\n",
       "      <td>AGROAVICOLA SAN MARINO LTDA.</td>\n",
       "      <td>216300</td>\n",
       "      <td>HY LINE BROWN</td>\n",
       "      <td>CALI</td>\n",
       "      <td>VALLE DEL CAUCA</td>\n",
       "      <td>1750.0</td>\n",
       "    </tr>\n",
       "    <tr>\n",
       "      <th>4</th>\n",
       "      <td>AGROAVICOLA SUPERIOR S.A.S</td>\n",
       "      <td>39000</td>\n",
       "      <td>HY LINE BROWN</td>\n",
       "      <td>CALI</td>\n",
       "      <td>VALLE DEL CAUCA</td>\n",
       "      <td>2150.0</td>\n",
       "    </tr>\n",
       "    <tr>\n",
       "      <th>...</th>\n",
       "      <td>...</td>\n",
       "      <td>...</td>\n",
       "      <td>...</td>\n",
       "      <td>...</td>\n",
       "      <td>...</td>\n",
       "      <td>...</td>\n",
       "    </tr>\n",
       "    <tr>\n",
       "      <th>319</th>\n",
       "      <td>ZAR-HUEVO LTDA</td>\n",
       "      <td>46800</td>\n",
       "      <td>HY LINE W-36</td>\n",
       "      <td>PEREIRA</td>\n",
       "      <td>RISARALDA</td>\n",
       "      <td>2625.0</td>\n",
       "    </tr>\n",
       "    <tr>\n",
       "      <th>320</th>\n",
       "      <td>ZULUAGA ARIZA LUZ DARY</td>\n",
       "      <td>2000</td>\n",
       "      <td>HY LINE W-36</td>\n",
       "      <td>SANTANDER DE QUILICHAO</td>\n",
       "      <td>CAUCA</td>\n",
       "      <td>1450.0</td>\n",
       "    </tr>\n",
       "    <tr>\n",
       "      <th>321</th>\n",
       "      <td>ZULUAGA MONTES MAURICIO</td>\n",
       "      <td>700</td>\n",
       "      <td>HY LINE BROWN</td>\n",
       "      <td>MANZANARES</td>\n",
       "      <td>CALDAS</td>\n",
       "      <td>1450.0</td>\n",
       "    </tr>\n",
       "    <tr>\n",
       "      <th>322</th>\n",
       "      <td>ZULUAGA SOTO JAIRO</td>\n",
       "      <td>17888</td>\n",
       "      <td>HY LINE BROWN</td>\n",
       "      <td>MANIZALEZ</td>\n",
       "      <td>CALDAS</td>\n",
       "      <td>2625.0</td>\n",
       "    </tr>\n",
       "    <tr>\n",
       "      <th>323</th>\n",
       "      <td>ZULUAGA SOTO MARIO</td>\n",
       "      <td>1750</td>\n",
       "      <td>HY LINE BROWN</td>\n",
       "      <td>MANIZALES</td>\n",
       "      <td>CALDAS</td>\n",
       "      <td>1450.0</td>\n",
       "    </tr>\n",
       "  </tbody>\n",
       "</table>\n",
       "<p>324 rows × 6 columns</p>\n",
       "</div>"
      ],
      "text/plain": [
       "                          CLIENTE  TOTAL  AVES 2000-2023          LINEA  \\\n",
       "0          ABADIA DE CAMPO GLORIA                  49500  HY LINE BROWN   \n",
       "1     ACEVEDO MARTINEZ LUZ PIEDAD                 294800  HY LINE BROWN   \n",
       "2        AGRICOLA COLOMBIANA S.A.                4987250  HY LINE BROWN   \n",
       "3    AGROAVICOLA SAN MARINO LTDA.                 216300  HY LINE BROWN   \n",
       "4      AGROAVICOLA SUPERIOR S.A.S                  39000  HY LINE BROWN   \n",
       "..                            ...                    ...            ...   \n",
       "319                ZAR-HUEVO LTDA                  46800   HY LINE W-36   \n",
       "320        ZULUAGA ARIZA LUZ DARY                   2000   HY LINE W-36   \n",
       "321       ZULUAGA MONTES MAURICIO                    700  HY LINE BROWN   \n",
       "322            ZULUAGA SOTO JAIRO                  17888  HY LINE BROWN   \n",
       "323            ZULUAGA SOTO MARIO                   1750  HY LINE BROWN   \n",
       "\n",
       "                     CIUDAD     DEPARTAMENTO  PRECIO PROMEDIO 2000-2023  \n",
       "0                   GUACARI  VALLE DEL CAUCA                     2150.0  \n",
       "1                     TULUA  VALLE DEL CAUCA                     2870.0  \n",
       "2                      CALI  VALLE DEL CAUCA                     3150.0  \n",
       "3                      CALI  VALLE DEL CAUCA                     1750.0  \n",
       "4                      CALI  VALLE DEL CAUCA                     2150.0  \n",
       "..                      ...              ...                        ...  \n",
       "319                 PEREIRA        RISARALDA                     2625.0  \n",
       "320  SANTANDER DE QUILICHAO            CAUCA                     1450.0  \n",
       "321              MANZANARES           CALDAS                     1450.0  \n",
       "322               MANIZALEZ           CALDAS                     2625.0  \n",
       "323               MANIZALES           CALDAS                     1450.0  \n",
       "\n",
       "[324 rows x 6 columns]"
      ]
     },
     "execution_count": 31,
     "metadata": {},
     "output_type": "execute_result"
    }
   ],
   "source": [
    "query_ejemplo= \"\"\"\n",
    "SELECT * FROM \"TABLA INFO CLIENTES\"\n",
    "\"\"\"\n",
    "t=runQuery(query_ejemplo)\n",
    "t"
   ]
  },
  {
   "cell_type": "code",
   "execution_count": 33,
   "id": "7de53b4e",
   "metadata": {},
   "outputs": [],
   "source": [
    "query1 = \"\"\"SELECT CLIENTE, CIUDAD,DEPARTAMENTO\n",
    "FROM \"TABLA INFO CLIENTES\"\n",
    "WHERE LINEA != 'HY LINE BROWN'\"\"\"\n",
    "g=runQuery(query1)\n"
   ]
  }
 ],
 "metadata": {
  "kernelspec": {
   "display_name": "Python 3 (ipykernel)",
   "language": "python",
   "name": "python3"
  },
  "language_info": {
   "codemirror_mode": {
    "name": "ipython",
    "version": 3
   },
   "file_extension": ".py",
   "mimetype": "text/x-python",
   "name": "python",
   "nbconvert_exporter": "python",
   "pygments_lexer": "ipython3",
   "version": "3.10.9"
  }
 },
 "nbformat": 4,
 "nbformat_minor": 5
}
